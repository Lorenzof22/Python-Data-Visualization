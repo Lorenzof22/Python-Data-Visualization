{
 "cells": [
  {
   "cell_type": "markdown",
   "metadata": {},
   "source": [
    "# Introduction/Business Problem"
   ]
  },
  {
   "cell_type": "markdown",
   "metadata": {},
   "source": [
    "## What is the best neighborhood for a physically active person or family to live in within Toronto?"
   ]
  },
  {
   "cell_type": "markdown",
   "metadata": {},
   "source": [
    "For most people moving to a new home, choosing the appropriate neighborhood is one of the most important things to think about. One thing a person must consider is the availability of different establishments and amenities within the area. For sporty or physically active people, having facilities such as a Basketball Court or a Yoga Studio is important sometimes even necessary. "
   ]
  },
  {
   "cell_type": "markdown",
   "metadata": {},
   "source": [
    "What we would like to answer in this project is what neighborhoods are the most ideal place for a person who is physically active to live in? Furthermore, we would like to see which neighborhoods are similar in terms of the sports and recreational facilities that they can provide. For this project we would be considering all the neighborhoods in the City of Toronto."
   ]
  },
  {
   "cell_type": "code",
   "execution_count": null,
   "metadata": {},
   "outputs": [],
   "source": []
  }
 ],
 "metadata": {
  "kernelspec": {
   "display_name": "Python 3",
   "language": "python",
   "name": "python3"
  },
  "language_info": {
   "codemirror_mode": {
    "name": "ipython",
    "version": 3
   },
   "file_extension": ".py",
   "mimetype": "text/x-python",
   "name": "python",
   "nbconvert_exporter": "python",
   "pygments_lexer": "ipython3",
   "version": "3.8.5"
  }
 },
 "nbformat": 4,
 "nbformat_minor": 4
}
